{
 "cells": [
  {
   "cell_type": "markdown",
   "metadata": {},
   "source": [
    "# Create Table.\n",
    "- ### This file creates a table with density of states and lattice structure based on the materials."
   ]
  },
  {
   "cell_type": "code",
   "execution_count": null,
   "metadata": {},
   "outputs": [],
   "source": [
    "import numpy as np\n",
    "import pandas as pd\n",
    "import warnings\n",
    "# filter warnings messages from the notebook\n",
    "warnings.filterwarnings('ignore')"
   ]
  },
  {
   "cell_type": "markdown",
   "metadata": {},
   "source": [
    "### Read in material dataset and take only relevant entries."
   ]
  },
  {
   "cell_type": "code",
   "execution_count": 25,
   "metadata": {},
   "outputs": [],
   "source": [
    "pearson_data = pd.read_csv('NewAllPearson.txt', sep='\\t', encoding = \"ISO-8859-1\")"
   ]
  },
  {
   "cell_type": "code",
   "execution_count": 10,
   "metadata": {
    "scrolled": true
   },
   "outputs": [
    {
     "data": {
      "text/html": [
       "<div>\n",
       "<style scoped>\n",
       "    .dataframe tbody tr th:only-of-type {\n",
       "        vertical-align: middle;\n",
       "    }\n",
       "\n",
       "    .dataframe tbody tr th {\n",
       "        vertical-align: top;\n",
       "    }\n",
       "\n",
       "    .dataframe thead th {\n",
       "        text-align: right;\n",
       "    }\n",
       "</style>\n",
       "<table border=\"1\" class=\"dataframe\">\n",
       "  <thead>\n",
       "    <tr style=\"text-align: right;\">\n",
       "      <th></th>\n",
       "      <th>Formula</th>\n",
       "      <th>Mag_atom</th>\n",
       "      <th>Near_Distance</th>\n",
       "      <th>SGR</th>\n",
       "    </tr>\n",
       "  </thead>\n",
       "  <tbody>\n",
       "    <tr>\n",
       "      <th>0</th>\n",
       "      <td>Ag0.5Al0.5Cr2S4</td>\n",
       "      <td>Cr</td>\n",
       "      <td>3.559221983102483</td>\n",
       "      <td>227</td>\n",
       "    </tr>\n",
       "    <tr>\n",
       "      <th>1</th>\n",
       "      <td>AgAl0.45F6Fe0.55Rb</td>\n",
       "      <td>Fe</td>\n",
       "      <td>3.6949999999999985</td>\n",
       "      <td>62</td>\n",
       "    </tr>\n",
       "    <tr>\n",
       "      <th>2</th>\n",
       "      <td>Ag0.66Al3.2Fe9.8La6</td>\n",
       "      <td>Fe</td>\n",
       "      <td>2.4441478988935694</td>\n",
       "      <td>140</td>\n",
       "    </tr>\n",
       "    <tr>\n",
       "      <th>3</th>\n",
       "      <td>AgAl0.12Fe2.88[OH]6[SO4]2</td>\n",
       "      <td>Fe</td>\n",
       "      <td>3.6698999999999984</td>\n",
       "      <td>166</td>\n",
       "    </tr>\n",
       "    <tr>\n",
       "      <th>4</th>\n",
       "      <td>AgxAl0.9Mn1.1</td>\n",
       "      <td>Mn</td>\n",
       "      <td>2.6617659551508277</td>\n",
       "      <td>123</td>\n",
       "    </tr>\n",
       "  </tbody>\n",
       "</table>\n",
       "</div>"
      ],
      "text/plain": [
       "                     Formula Mag_atom       Near_Distance  SGR\n",
       "0            Ag0.5Al0.5Cr2S4       Cr   3.559221983102483  227\n",
       "1         AgAl0.45F6Fe0.55Rb       Fe  3.6949999999999985   62\n",
       "2        Ag0.66Al3.2Fe9.8La6       Fe  2.4441478988935694  140\n",
       "3  AgAl0.12Fe2.88[OH]6[SO4]2       Fe  3.6698999999999984  166\n",
       "4              AgxAl0.9Mn1.1       Mn  2.6617659551508277  123"
      ]
     },
     "execution_count": 10,
     "metadata": {},
     "output_type": "execute_result"
    }
   ],
   "source": [
    "def sep_mag_distance(nearest_spacing):\n",
    "    Mag_atom = nearest_spacing.apply(lambda x: x.split('-')[0])\n",
    "    Near_Distance = nearest_spacing.apply(lambda x: x.split(':')[1])\n",
    "    return Mag_atom, Near_Distance\n",
    "\n",
    "pearson_data = pd.read_csv('NewAllPearson.txt', sep='\\t', encoding = \"ISO-8859-1\")\n",
    "Mag_atom, Near_Distance = sep_mag_distance(pearson_data['Nearest spacing'])\n",
    "pearson_distance = pd.DataFrame({'Formula' : pearson_data.Formula, 'Mag_atom': Mag_atom, 'Near_Distance': Near_Distance, 'SGR': pearson_data['SGR no. (std.)']})\n",
    "pearson_distance.head(5)\n"
   ]
  },
  {
   "cell_type": "markdown",
   "metadata": {},
   "source": [
    "### Read in another material dataset with $T_{Curie}$.\n",
    "### Ccalculate average and std of $T_{Curie}$ for the same material."
   ]
  },
  {
   "cell_type": "code",
   "execution_count": 26,
   "metadata": {
    "scrolled": true
   },
   "outputs": [
    {
     "data": {
      "text/html": [
       "<div>\n",
       "<style scoped>\n",
       "    .dataframe tbody tr th:only-of-type {\n",
       "        vertical-align: middle;\n",
       "    }\n",
       "\n",
       "    .dataframe tbody tr th {\n",
       "        vertical-align: top;\n",
       "    }\n",
       "\n",
       "    .dataframe thead th {\n",
       "        text-align: right;\n",
       "    }\n",
       "</style>\n",
       "<table border=\"1\" class=\"dataframe\">\n",
       "  <thead>\n",
       "    <tr style=\"text-align: right;\">\n",
       "      <th></th>\n",
       "      <th>Formula</th>\n",
       "      <th>Tc_avg</th>\n",
       "      <th>Tc_std</th>\n",
       "    </tr>\n",
       "  </thead>\n",
       "  <tbody>\n",
       "    <tr>\n",
       "      <th>0</th>\n",
       "      <td>Al0.4Fe1.6Y</td>\n",
       "      <td>320.0</td>\n",
       "      <td>0.0</td>\n",
       "    </tr>\n",
       "    <tr>\n",
       "      <th>1</th>\n",
       "      <td>Al0.6Fe1.4Y</td>\n",
       "      <td>72.0</td>\n",
       "      <td>0.0</td>\n",
       "    </tr>\n",
       "    <tr>\n",
       "      <th>2</th>\n",
       "      <td>Al0.8Fe1.2Ti</td>\n",
       "      <td>73.0</td>\n",
       "      <td>0.0</td>\n",
       "    </tr>\n",
       "    <tr>\n",
       "      <th>3</th>\n",
       "      <td>Al0.8Fe1.2Y</td>\n",
       "      <td>49.0</td>\n",
       "      <td>0.0</td>\n",
       "    </tr>\n",
       "    <tr>\n",
       "      <th>4</th>\n",
       "      <td>Al10Fe2Tb</td>\n",
       "      <td>17.6</td>\n",
       "      <td>0.0</td>\n",
       "    </tr>\n",
       "  </tbody>\n",
       "</table>\n",
       "</div>"
      ],
      "text/plain": [
       "        Formula  Tc_avg  Tc_std\n",
       "0   Al0.4Fe1.6Y   320.0     0.0\n",
       "1   Al0.6Fe1.4Y    72.0     0.0\n",
       "2  Al0.8Fe1.2Ti    73.0     0.0\n",
       "3   Al0.8Fe1.2Y    49.0     0.0\n",
       "4     Al10Fe2Tb    17.6     0.0"
      ]
     },
     "execution_count": 26,
     "metadata": {},
     "output_type": "execute_result"
    }
   ],
   "source": [
    "def Tc_filter(tc_data):\n",
    "    Tc_avg = []\n",
    "    Tc_std = []\n",
    "    for Curie_T_string in tc_data.iloc[:,1]:\n",
    "        Curie_Ts = []\n",
    "        if pd.isna(Curie_T_string) is False:\n",
    "            Curie_Ts = [ float(T) for T in Curie_T_string.split(' ;') if T !='']\n",
    "            \n",
    "        if(len(Curie_Ts)!= 0 and np.std(Curie_Ts) < 0.1* np.average(Curie_Ts)):\n",
    "            Tc_avg.append(np.average(Curie_Ts))\n",
    "            Tc_std.append(np.std(Curie_Ts))\n",
    "        else:\n",
    "            Tc_avg.append(np.nan)\n",
    "            Tc_std.append(np.nan)\n",
    "    return [Tc_avg, Tc_std]\n",
    "\n",
    "tc_data = pd.read_csv('Curie_Neel.txt', sep='\\t', encoding = \"ISO-8859-1\")\n",
    "tc_data['Tc_avg'], tc_data['Tc_std']  = Tc_filter(tc_data)\n",
    "tc_data = tc_data[['ChemicalFormula','Tc_avg', 'Tc_std']]\n",
    "tc_data = tc_data.rename(columns = {\"ChemicalFormula\": \"Formula\"})\n",
    "tc_data = tc_data.dropna()\n",
    "tc_data.reset_index(drop=True, inplace=True)\n",
    "tc_data.head(5)"
   ]
  },
  {
   "cell_type": "markdown",
   "metadata": {},
   "source": [
    "### Merge the two tables."
   ]
  },
  {
   "cell_type": "code",
   "execution_count": 15,
   "metadata": {},
   "outputs": [
    {
     "data": {
      "text/html": [
       "<div>\n",
       "<style scoped>\n",
       "    .dataframe tbody tr th:only-of-type {\n",
       "        vertical-align: middle;\n",
       "    }\n",
       "\n",
       "    .dataframe tbody tr th {\n",
       "        vertical-align: top;\n",
       "    }\n",
       "\n",
       "    .dataframe thead th {\n",
       "        text-align: right;\n",
       "    }\n",
       "</style>\n",
       "<table border=\"1\" class=\"dataframe\">\n",
       "  <thead>\n",
       "    <tr style=\"text-align: right;\">\n",
       "      <th></th>\n",
       "      <th>Formula</th>\n",
       "      <th>Mag_atom</th>\n",
       "      <th>Near_Distance</th>\n",
       "      <th>SGR</th>\n",
       "      <th>Tc_avg</th>\n",
       "      <th>Tc_std</th>\n",
       "    </tr>\n",
       "  </thead>\n",
       "  <tbody>\n",
       "    <tr>\n",
       "      <th>0</th>\n",
       "      <td>AlAu2Mn</td>\n",
       "      <td>Mn</td>\n",
       "      <td>4.495784914784067</td>\n",
       "      <td>225</td>\n",
       "      <td>216.5</td>\n",
       "      <td>16.500000</td>\n",
       "    </tr>\n",
       "    <tr>\n",
       "      <th>1</th>\n",
       "      <td>AlAu2Mn</td>\n",
       "      <td>Mn</td>\n",
       "      <td>4.497199128346442</td>\n",
       "      <td>225</td>\n",
       "      <td>216.5</td>\n",
       "      <td>16.500000</td>\n",
       "    </tr>\n",
       "    <tr>\n",
       "      <th>2</th>\n",
       "      <td>AlAu2Mn</td>\n",
       "      <td>Mn</td>\n",
       "      <td>4.495077808002882</td>\n",
       "      <td>225</td>\n",
       "      <td>216.5</td>\n",
       "      <td>16.500000</td>\n",
       "    </tr>\n",
       "    <tr>\n",
       "      <th>3</th>\n",
       "      <td>AlB2Fe2</td>\n",
       "      <td>Fe</td>\n",
       "      <td>2.6858372440369473</td>\n",
       "      <td>65</td>\n",
       "      <td>288.0</td>\n",
       "      <td>13.735599</td>\n",
       "    </tr>\n",
       "    <tr>\n",
       "      <th>4</th>\n",
       "      <td>AlB2Fe2</td>\n",
       "      <td>Fe</td>\n",
       "      <td>2.7211215947079803</td>\n",
       "      <td>65</td>\n",
       "      <td>288.0</td>\n",
       "      <td>13.735599</td>\n",
       "    </tr>\n",
       "  </tbody>\n",
       "</table>\n",
       "</div>"
      ],
      "text/plain": [
       "   Formula Mag_atom       Near_Distance  SGR  Tc_avg     Tc_std\n",
       "0  AlAu2Mn       Mn   4.495784914784067  225   216.5  16.500000\n",
       "1  AlAu2Mn       Mn   4.497199128346442  225   216.5  16.500000\n",
       "2  AlAu2Mn       Mn   4.495077808002882  225   216.5  16.500000\n",
       "3  AlB2Fe2       Fe  2.6858372440369473   65   288.0  13.735599\n",
       "4  AlB2Fe2       Fe  2.7211215947079803   65   288.0  13.735599"
      ]
     },
     "execution_count": 15,
     "metadata": {},
     "output_type": "execute_result"
    }
   ],
   "source": [
    "table = pd.merge(pearson_distance, tc_data, on = 'Formula')\n",
    "table.head(5)"
   ]
  },
  {
   "cell_type": "markdown",
   "metadata": {},
   "source": [
    "### Scrape DOS and structure from Materials Project website and put them in the table."
   ]
  },
  {
   "cell_type": "code",
   "execution_count": 15,
   "metadata": {
    "scrolled": true
   },
   "outputs": [
    {
     "name": "stderr",
     "output_type": "stream",
     "text": [
      "100%|██████████| 5659/5659 [2:34:11<00:00,  1.55s/it]  \n"
     ]
    }
   ],
   "source": [
    "from pymatgen import MPRester, Composition\n",
    "from tqdm import tqdm\n",
    "\n",
    "mpr = MPRester(api_key = 'HiiwBuKvSNiOROq9In')\n",
    "material_id = []\n",
    "structure = []\n",
    "DOS = []\n",
    "\n",
    "def find_SGR(MP_IDs):\n",
    "    SGR_dict = {}\n",
    "    for MP_ID in MP_IDs:\n",
    "        struct = mpr.get_structure_by_material_id(MP_ID)\n",
    "        SGR = struct.get_space_group_info()[1]\n",
    "        SGR_dict.update( {SGR: [MP_ID, struct]} )\n",
    "    return SGR_dict\n",
    "\n",
    "for i in tqdm(range(len(table[\"Formula\"]))):\n",
    "    formula = table[\"Formula\"][i]\n",
    "    reduced_formula = Composition(formula).get_integer_formula_and_factor()[0]\n",
    "    MP_IDs = mpr.get_materials_ids(reduced_formula)\n",
    "    if(len(MP_IDs) >= 1):\n",
    "        SGR_dict = find_SGR(MP_IDs)\n",
    "        if table['SGR'][i] in SGR_dict:\n",
    "            MP_ID = SGR_dict[table['SGR'][i]][0]\n",
    "            structure.append(SGR_dict[table['SGR'][i]][1])\n",
    "        else:\n",
    "            index = np.random.randint(0, len(MP_IDs))\n",
    "            MP_ID = MP_IDs[index]\n",
    "            structure.append(mpr.get_structure_by_material_id(MP_ID))\n",
    "        material_id.append(MP_ID)        \n",
    "        DOS.append(mpr.get_dos_by_material_id(MP_ID))\n",
    "    else:\n",
    "        material_id.append(np.nan)\n",
    "        structure.append(np.nan)\n",
    "        DOS.append(np.nan)"
   ]
  },
  {
   "cell_type": "markdown",
   "metadata": {},
   "source": [
    "### Save to pickle file."
   ]
  },
  {
   "cell_type": "code",
   "execution_count": 16,
   "metadata": {},
   "outputs": [],
   "source": [
    "# Save structure, DOS, TC, and material id to pickle file\n",
    "table['material_id'] = material_id\n",
    "table['structure'] = structure\n",
    "table['DOS']  =  DOS\n",
    "table.to_pickle('material_2.pkl')"
   ]
  },
  {
   "cell_type": "code",
   "execution_count": null,
   "metadata": {},
   "outputs": [],
   "source": []
  }
 ],
 "metadata": {
  "kernelspec": {
   "display_name": "Python 3",
   "language": "python",
   "name": "python3"
  },
  "language_info": {
   "codemirror_mode": {
    "name": "ipython",
    "version": 3
   },
   "file_extension": ".py",
   "mimetype": "text/x-python",
   "name": "python",
   "nbconvert_exporter": "python",
   "pygments_lexer": "ipython3",
   "version": "3.6.8"
  }
 },
 "nbformat": 4,
 "nbformat_minor": 2
}
